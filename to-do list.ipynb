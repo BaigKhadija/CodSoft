{
 "cells": [
  {
   "cell_type": "code",
   "execution_count": 1,
   "id": "ee75dcfe-8efe-47a5-93d1-19079fff81d8",
   "metadata": {},
   "outputs": [],
   "source": [
    "# importing the required modules  \n",
    "import tkinter as tk            # importing the tkinter module as tk  \n",
    "from tkinter import ttk         # importing the ttk module from the tkinter library  \n",
    "from tkinter import messagebox  # importing the messagebox module from the tkinter library  \n",
    "import sqlite3 as sql           # importing the sqlite3 module as sql  \n"
   ]
  },
  {
   "cell_type": "code",
   "execution_count": 2,
   "id": "31e087dc-5e10-4999-b305-745c467d959b",
   "metadata": {},
   "outputs": [],
   "source": [
    "# defining an empty list  \n",
    "tasks = []  \n"
   ]
  },
  {
   "cell_type": "code",
   "execution_count": 3,
   "id": "6e19c4bc-82c9-4336-86d2-ac892753bb34",
   "metadata": {},
   "outputs": [],
   "source": [
    "# defining the function to add tasks to the list  \n",
    "def add_task():  \n",
    "    # getting the string from the entry field  \n",
    "    task_string = task_field.get()  \n",
    "    # checking whether the string is empty or not  \n",
    "    if len(task_string) == 0:  \n",
    "        # displaying a message box with 'Empty Field' message  \n",
    "        messagebox.showinfo('Error', 'Field is Empty.')  \n",
    "    else:  \n",
    "        # adding the string to the tasks list  \n",
    "        tasks.append(task_string)  \n",
    "        # using the execute() method to execute a SQL statement  \n",
    "        the_cursor.execute('insert into tasks values (?)', (task_string,))  \n",
    "        # calling the function to update the list  \n",
    "        list_update()  \n",
    "        # deleting the entry in the entry field  \n",
    "        task_field.delete(0, 'end')  "
   ]
  },
  {
   "cell_type": "code",
   "execution_count": 4,
   "id": "98e04e20-a13a-4734-91c8-8495b6077779",
   "metadata": {},
   "outputs": [],
   "source": [
    "# defining the function to update the list  \n",
    "def list_update():  \n",
    "    # calling the function to clear the list  \n",
    "    clear_list()  \n",
    "    # iterating through the strings in the list  \n",
    "    for task in tasks:  \n",
    "        # using the insert() method to insert the tasks in the list box  \n",
    "        task_listbox.insert('end', task)  "
   ]
  },
  {
   "cell_type": "code",
   "execution_count": 5,
   "id": "62b61595-c4a2-4e82-b3fe-29ca0265a541",
   "metadata": {},
   "outputs": [],
   "source": [
    "# defining the function to delete a task from the list  \n",
    "def delete_task():  \n",
    "    # using the try-except method  \n",
    "    try:  \n",
    "        # getting the selected entry from the list box  \n",
    "        the_value = task_listbox.get(task_listbox.curselection())  \n",
    "        # checking if the stored value is present in the tasks list  \n",
    "        if the_value in tasks:  \n",
    "            # removing the task from the list  \n",
    "            tasks.remove(the_value)  \n",
    "            # calling the function to update the list  \n",
    "            list_update()  \n",
    "            # using the execute() method to execute a SQL statement  \n",
    "            the_cursor.execute('delete from tasks where title = ?', (the_value,))  \n",
    "    except:  \n",
    "        # displaying the message box with 'No Item Selected' message for an exception  \n",
    "        messagebox.showinfo('Error', 'Cannot Delete, Select the task you want to delete.') "
   ]
  },
  {
   "cell_type": "code",
   "execution_count": 6,
   "id": "35b08297-f21f-4b23-ac2c-c80ff93efdcb",
   "metadata": {},
   "outputs": [],
   "source": [
    "# function to delete all tasks from the list  \n",
    "def delete_all_tasks():  \n",
    "    # displaying a message box to ask user for confirmation  \n",
    "    message_box = messagebox.askyesno('Delete All', 'Are you sure?')  \n",
    "    # if the value turns to be True  \n",
    "    if message_box == True:  \n",
    "        # using while loop to iterate through the tasks list until it's empty   \n",
    "        while(len(tasks) != 0):  \n",
    "            # using the pop() method to pop out the elements from the list  \n",
    "            tasks.pop()  \n",
    "        # using the execute() method to execute a SQL statement  \n",
    "        the_cursor.execute('delete from tasks')  \n",
    "        # calling the function to update the list  \n",
    "        list_update()  "
   ]
  },
  {
   "cell_type": "code",
   "execution_count": 7,
   "id": "d3c7a511-5796-4d2f-8495-ac4887113a44",
   "metadata": {},
   "outputs": [],
   "source": [
    "# function to clear the list  \n",
    "def clear_list():  \n",
    "    # using the delete method to delete all entries from the list box  \n",
    "    task_listbox.delete(0, 'end')  "
   ]
  },
  {
   "cell_type": "code",
   "execution_count": 8,
   "id": "5db74221-e8b9-4065-a874-39baf73a4f61",
   "metadata": {},
   "outputs": [],
   "source": [
    "# function to close the application  \n",
    "def close():  \n",
    "    # printing the elements from the tasks list  \n",
    "    print(tasks)  \n",
    "    # using the destroy() method to close the application  \n",
    "    guiWindow.destroy()  "
   ]
  },
  {
   "cell_type": "code",
   "execution_count": 9,
   "id": "f822ff40-358d-4db7-931f-d5c0c12e810d",
   "metadata": {},
   "outputs": [],
   "source": [
    "# function to retrieve data from the database  \n",
    "def retrieve_database():  \n",
    "    # using the while loop to iterate through the elements in the tasks list  \n",
    "    while(len(tasks) != 0):  \n",
    "        # using the pop() method to pop out the elements from the list  \n",
    "        tasks.pop()  \n",
    "    # iterating through the rows in the database table  \n",
    "    for row in the_cursor.execute('select title from tasks'):  \n",
    "        # using the append() method to insert the titles from the table to the list  \n",
    "        tasks.append(row[0])  "
   ]
  },
  {
   "cell_type": "code",
   "execution_count": 10,
   "id": "4d420de0-6dd4-453e-b28f-922924487547",
   "metadata": {},
   "outputs": [],
   "source": [
    "# main function  \n",
    "if __name__ == \"__main__\":  \n",
    "    # creating an object of the Tk() class  \n",
    "    guiWindow = tk.Tk()  \n",
    "    # setting the title of the window  \n",
    "    guiWindow.title(\"To-Do List Manager for Khadija\")  \n",
    "    # setting the geometry of the window  \n",
    "    guiWindow.geometry(\"500x500+750+250\")  \n",
    "    # disabling the resizable option  \n",
    "    guiWindow.resizable(0, 0)  \n",
    "    # setting the background color to #FAEBD7  \n",
    "    guiWindow.configure(bg = \"#A8A8A8\")  "
   ]
  },
  {
   "cell_type": "code",
   "execution_count": 11,
   "id": "45d578a5-e645-4924-ae38-39fd7d3489a8",
   "metadata": {},
   "outputs": [
    {
     "data": {
      "text/plain": [
       "<sqlite3.Cursor at 0x1f9d81f01c0>"
      ]
     },
     "execution_count": 11,
     "metadata": {},
     "output_type": "execute_result"
    }
   ],
   "source": [
    "# using the connect() method to connect to the database  \n",
    "the_connection = sql.connect('listOfTasks.db')  \n",
    "# creating an object of the cursor class  \n",
    "the_cursor = the_connection.cursor()  \n",
    "# using the execute() method to execute a SQL statement  \n",
    "the_cursor.execute('create table if not exists tasks (title text)')  "
   ]
  },
  {
   "cell_type": "code",
   "execution_count": 12,
   "id": "b5124cb1-f1f6-4744-8c04-a5d572a92e12",
   "metadata": {},
   "outputs": [],
   "source": [
    "# defining frames using the tk.Frame() widget  \n",
    "header_frame = tk.Frame(guiWindow, bg = \"#E3E4FA\")  \n",
    "functions_frame = tk.Frame(guiWindow, bg = \"#E3E4FA\")  \n",
    "listbox_frame = tk.Frame(guiWindow, bg = \"#E3E4FA\")  \n",
    "  \n",
    "# using the pack() method to place the frames in the application  \n",
    "header_frame.pack(fill = \"both\")  \n",
    "functions_frame.pack(side = \"left\", expand = True, fill = \"both\")  \n",
    "listbox_frame.pack(side = \"right\", expand = True, fill = \"both\")  "
   ]
  },
  {
   "cell_type": "code",
   "execution_count": 13,
   "id": "bf927245-a2c7-4803-9e15-e247d7ec7e28",
   "metadata": {},
   "outputs": [],
   "source": [
    "# defining a label using the ttk.Label() widget  \n",
    "header_label = ttk.Label(  \n",
    "    header_frame,  \n",
    "    text = \"To-Do List\",  \n",
    "    font = (\"Monotype Corsiva\", \"35\", \"bold\"),  \n",
    "    background = \"#E3E4FA\",  \n",
    "    foreground = \"#9AC0CD\"  \n",
    ")  \n",
    "# using the pack() method to place the label in the application  \n",
    "header_label.pack(padx = 20, pady = 20)  \n",
    "  \n",
    "# defining another label using the ttk.Label() widget  \n",
    "task_label = ttk.Label(  \n",
    "    functions_frame,  \n",
    "    text = \"Enter your task:\",  \n",
    "    font = (\"Consolas\", \"11\"),  \n",
    "    background = \"#E3E4FA\",  \n",
    "    foreground = \"#000000\"  \n",
    ")  \n",
    "# using the place() method to place the label in the application  \n",
    "task_label.place(x = 30, y = 40) "
   ]
  },
  {
   "cell_type": "code",
   "execution_count": 14,
   "id": "2c246015-6c1c-4670-b925-07413b9fbda4",
   "metadata": {},
   "outputs": [],
   "source": [
    "# defining an entry field using the ttk.Entry() widget  \n",
    "task_field = ttk.Entry(  \n",
    "    functions_frame,  \n",
    "    font = (\"Consolas\", \"12\"),  \n",
    "    width = 18,  \n",
    "    background = \"#FFF8DC\",  \n",
    "    foreground = \"#A52A2A\"  \n",
    ")  \n",
    "# using the place() method to place the entry field in the application  \n",
    "task_field.place(x = 30, y = 80)"
   ]
  },
  {
   "cell_type": "code",
   "execution_count": 16,
   "id": "e649d45a-7f1c-44f6-9eea-11911a685e11",
   "metadata": {},
   "outputs": [],
   "source": [
    "# adding buttons to the application using the ttk.Button() widget  \n",
    "add_button = ttk.Button(  \n",
    "    functions_frame,  \n",
    "    text = \"Add Task\",  \n",
    "    width = 24,  \n",
    "    command = add_task  \n",
    ")  \n",
    "del_button = ttk.Button(  \n",
    "    functions_frame,  \n",
    "    text = \"Remove Task\",  \n",
    "    width = 24,  \n",
    "    command = delete_task  \n",
    ")  \n",
    "del_all_button = ttk.Button(  \n",
    "    functions_frame,  \n",
    "    text = \"Remove all Tasks\",  \n",
    "    width = 24,  \n",
    "    command = delete_all_tasks  \n",
    ")  \n",
    "exit_button = ttk.Button(  \n",
    "    functions_frame,  \n",
    "    text = \"Exit\",  \n",
    "    width = 24,  \n",
    "    command = close  \n",
    ")  \n",
    "# using the place() method to set the position of the buttons in the application  \n",
    "add_button.place(x = 30, y = 120)  \n",
    "del_button.place(x = 30, y = 160)  \n",
    "del_all_button.place(x = 30, y = 200)  \n",
    "exit_button.place(x = 30, y = 240)  "
   ]
  },
  {
   "cell_type": "code",
   "execution_count": 15,
   "id": "664d7131-3c76-4ced-bf95-978228244e2a",
   "metadata": {},
   "outputs": [],
   "source": [
    "# defining a list box using the tk.Listbox() widget  \n",
    "task_listbox = tk.Listbox(  \n",
    "    listbox_frame,  \n",
    "    width = 26,  \n",
    "    height = 13,  \n",
    "    selectmode = 'SINGLE',  \n",
    "    background = \"#FFFFFF\",  \n",
    "    foreground = \"#000000\",  \n",
    "    selectbackground = \"#C2E5D3\",  \n",
    "    selectforeground = \"#3D3635\"  \n",
    ")  \n",
    "# using the place() method to place the list box in the application  \n",
    "task_listbox.place(x = 10, y = 50)  "
   ]
  },
  {
   "cell_type": "code",
   "execution_count": null,
   "id": "f23f038f-b3c9-41b9-8d74-050a263847a0",
   "metadata": {},
   "outputs": [],
   "source": [
    "# calling some functions  \n",
    "retrieve_database()  \n",
    "list_update()  \n",
    "# using the mainloop() method to run the application  \n",
    "guiWindow.mainloop()  \n",
    "# establishing the connection with database  \n",
    "the_connection.commit()  \n",
    "the_cursor.close()  "
   ]
  },
  {
   "cell_type": "code",
   "execution_count": null,
   "id": "e7c372c4-7c31-4f1a-845f-137723fda9aa",
   "metadata": {},
   "outputs": [],
   "source": []
  }
 ],
 "metadata": {
  "kernelspec": {
   "display_name": "Python 3 (ipykernel)",
   "language": "python",
   "name": "python3"
  },
  "language_info": {
   "codemirror_mode": {
    "name": "ipython",
    "version": 3
   },
   "file_extension": ".py",
   "mimetype": "text/x-python",
   "name": "python",
   "nbconvert_exporter": "python",
   "pygments_lexer": "ipython3",
   "version": "3.11.4"
  }
 },
 "nbformat": 4,
 "nbformat_minor": 5
}
